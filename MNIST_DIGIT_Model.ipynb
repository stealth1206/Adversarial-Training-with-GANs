{
  "nbformat": 4,
  "nbformat_minor": 0,
  "metadata": {
    "colab": {
      "name": "MNIST_DIGIT_Model.ipynb",
      "provenance": [],
      "collapsed_sections": [
        "abp2YZU909T8",
        "YIQB_ME8BC6O",
        "ssGsqzqEE5Hi",
        "ox4SbLfTE90m",
        "3wM0ZnUaFCMw",
        "vXNmfJKRFGR6"
      ],
      "toc_visible": true
    },
    "kernelspec": {
      "name": "python3",
      "display_name": "Python 3"
    }
  },
  "cells": [
    {
      "cell_type": "markdown",
      "metadata": {
        "id": "abp2YZU909T8",
        "colab_type": "text"
      },
      "source": [
        "# Imports"
      ]
    },
    {
      "cell_type": "code",
      "metadata": {
        "id": "sl0I2gGY1O9K",
        "colab_type": "code",
        "colab": {}
      },
      "source": [
        "from __future__ import absolute_import,division,print_function,unicode_literals\n",
        "\n",
        "#importing tensorflow,keras,matplotlib and numpy\n",
        "import tensorflow as tf\n",
        "from tensorflow import keras\n",
        "import matplotlib.pyplot as plt\n",
        "import numpy as np\n",
        "tf.enable_eager_execution()\n"
      ],
      "execution_count": null,
      "outputs": []
    },
    {
      "cell_type": "code",
      "metadata": {
        "id": "BdcOTE_Z_W2z",
        "colab_type": "code",
        "colab": {
          "base_uri": "https://localhost:8080/",
          "height": 86
        },
        "outputId": "7ec2912b-c222-4b4e-bcb5-8ef5110425e1"
      },
      "source": [
        "    from tensorflow.examples.tutorials.mnist import input_data\n",
        "    mnist = input_data.read_data_sets(\"MNIST_data/\", one_hot=True)"
      ],
      "execution_count": null,
      "outputs": [
        {
          "output_type": "stream",
          "text": [
            "Extracting MNIST_data/train-images-idx3-ubyte.gz\n",
            "Extracting MNIST_data/train-labels-idx1-ubyte.gz\n",
            "Extracting MNIST_data/t10k-images-idx3-ubyte.gz\n",
            "Extracting MNIST_data/t10k-labels-idx1-ubyte.gz\n"
          ],
          "name": "stdout"
        }
      ]
    },
    {
      "cell_type": "markdown",
      "metadata": {
        "id": "XpSJOOEGEe6F",
        "colab_type": "text"
      },
      "source": [
        "**Conversion of The Input Train and Test Data to The requred format which can be omputed By the Model Easily :**"
      ]
    },
    {
      "cell_type": "code",
      "metadata": {
        "id": "-z5VpvBcxrTD",
        "colab_type": "code",
        "colab": {
          "base_uri": "https://localhost:8080/",
          "height": 34
        },
        "outputId": "d0a0fec7-a84e-4d34-f7dd-05016fbd2572"
      },
      "source": [
        "\n",
        "mnist_train_img=tf.reshape(mnist.train.images,[-1,28,28])\n",
        "mnist_train_labels=np.zeros((55000,),dtype=int)\n",
        "for i in range (55000):\n",
        "  mnist_train_labels[i] = np.argmax(mnist.train.labels)\n"
      ],
      "execution_count": null,
      "outputs": [
        {
          "output_type": "stream",
          "text": [
            "(55000,)\n"
          ],
          "name": "stdout"
        }
      ]
    },
    {
      "cell_type": "code",
      "metadata": {
        "id": "aK88DtT1_3zg",
        "colab_type": "code",
        "colab": {
          "base_uri": "https://localhost:8080/",
          "height": 286
        },
        "outputId": "3f7fc54b-6e42-4f42-8a51-1fb422a6ee40"
      },
      "source": [
        "\n",
        "mnist_test_img=tf.reshape(mnist.test.images,[-1,28,28])\n",
        "mnist_test_labels = np.zeros((10000,),dtype=int)\n",
        "for i in range(10000):\n",
        "  mnist_test_labels[i] = np.argmax(mnist.test.labels)\n",
        "plt.imshow(mnist_test_img[0])\n",
        "print(mnist_test_labels[0])"
      ],
      "execution_count": null,
      "outputs": [
        {
          "output_type": "stream",
          "text": [
            "7\n"
          ],
          "name": "stdout"
        },
        {
          "output_type": "display_data",
          "data": {
            "image/png": "[encoded data removed]",
            "text/plain": [
              "<Figure size 432x288 with 1 Axes>"
            ]
          },
          "metadata": {
            "tags": []
          }
        }
      ]
    },
    {
      "cell_type": "markdown",
      "metadata": {
        "id": "YIQB_ME8BC6O",
        "colab_type": "text"
      },
      "source": [
        "# Preprocessing The Data"
      ]
    },
    {
      "cell_type": "code",
      "metadata": {
        "id": "5sGMe8u-BH5q",
        "colab_type": "code",
        "colab": {}
      },
      "source": [
        "class_names = ['0', '1', '2', '3', '4',\n",
        "               '5', '6', '7', '8', '9']"
      ],
      "execution_count": null,
      "outputs": []
    },
    {
      "cell_type": "code",
      "metadata": {
        "id": "kU1fWhCJBfL1",
        "colab_type": "code",
        "colab": {}
      },
      "source": [
        "mnist_train_img = mnist_train_img/255.0;\n",
        "mnist_test_img = mnist_test_img/255.0;"
      ],
      "execution_count": null,
      "outputs": []
    },
    {
      "cell_type": "markdown",
      "metadata": {
        "id": "ssGsqzqEE5Hi",
        "colab_type": "text"
      },
      "source": [
        "# Building The Model"
      ]
    },
    {
      "cell_type": "code",
      "metadata": {
        "id": "V_1CE0f5BfGx",
        "colab_type": "code",
        "colab": {}
      },
      "source": [
        "model = keras.Sequential([\n",
        "         keras.layers.Flatten(input_shape=(28,28)),\n",
        "         keras.layers.Dense(128,activation=tf.nn.relu),\n",
        "         keras.layers.Dense(10,activation=tf.nn.softmax)])\n"
      ],
      "execution_count": null,
      "outputs": []
    },
    {
      "cell_type": "code",
      "metadata": {
        "id": "6fqUrXWrBfBk",
        "colab_type": "code",
        "colab": {}
      },
      "source": [
        "model.compile(optimizer='adam',\n",
        "             loss='sparse_categorical_crossentropy',\n",
        "             metrics=['accuracy'])"
      ],
      "execution_count": null,
      "outputs": []
    },
    {
      "cell_type": "markdown",
      "metadata": {
        "id": "ox4SbLfTE90m",
        "colab_type": "text"
      },
      "source": [
        "# Training The Model"
      ]
    },
    {
      "cell_type": "code",
      "metadata": {
        "id": "8bfPHFqlBe78",
        "colab_type": "code",
        "colab": {
          "base_uri": "https://localhost:8080/",
          "height": 280
        },
        "outputId": "9eeb46be-1853-40cb-99b1-865595a20665"
      },
      "source": [
        "model.fit(mnist_train_img,mnist_train_labels,epochs=5)"
      ],
      "execution_count": null,
      "outputs": [
        {
          "output_type": "stream",
          "text": [
            "W0719 07:00:03.697697 139918483494784 deprecation.py:323] From /usr/local/lib/python3.6/dist-packages/tensorflow/python/ops/math_grad.py:1250: add_dispatch_support.<locals>.wrapper (from tensorflow.python.ops.array_ops) is deprecated and will be removed in a future version.\n",
            "Instructions for updating:\n",
            "Use tf.where in 2.0, which has the same broadcast rule as np.where\n"
          ],
          "name": "stderr"
        },
        {
          "output_type": "stream",
          "text": [
            "Epoch 1/5\n",
            "55000/55000 [==============================] - 4s 74us/sample - loss: 0.0779 - acc: 0.9995\n",
            "Epoch 2/5\n",
            "55000/55000 [==============================] - 3s 62us/sample - loss: 1.9777e-04 - acc: 1.0000\n",
            "Epoch 3/5\n",
            "55000/55000 [==============================] - 3s 62us/sample - loss: 5.1127e-05 - acc: 1.0000\n",
            "Epoch 4/5\n",
            "55000/55000 [==============================] - 3s 61us/sample - loss: 1.7402e-05 - acc: 1.0000\n",
            "Epoch 5/5\n",
            "55000/55000 [==============================] - 3s 62us/sample - loss: 6.5792e-06 - acc: 1.0000\n"
          ],
          "name": "stdout"
        },
        {
          "output_type": "execute_result",
          "data": {
            "text/plain": [
              "<tensorflow.python.keras.callbacks.History at 0x7f41020b47b8>"
            ]
          },
          "metadata": {
            "tags": []
          },
          "execution_count": 26
        }
      ]
    },
    {
      "cell_type": "code",
      "metadata": {
        "id": "TKIMMYstBe3H",
        "colab_type": "code",
        "colab": {
          "base_uri": "https://localhost:8080/",
          "height": 52
        },
        "outputId": "454cdd88-6251-426b-d318-afa1d741a667"
      },
      "source": [
        "test_loss,test_acc=model.evaluate(mnist_test_img,mnist_test_labels)\n",
        "print(\"Test Accuracy : \",test_acc)"
      ],
      "execution_count": null,
      "outputs": [
        {
          "output_type": "stream",
          "text": [
            "10000/10000 [==============================] - 0s 28us/sample - loss: 3.8688e-06 - acc: 1.0000\n",
            "Test Accuracy :  1.0\n"
          ],
          "name": "stdout"
        }
      ]
    },
    {
      "cell_type": "markdown",
      "metadata": {
        "id": "3wM0ZnUaFCMw",
        "colab_type": "text"
      },
      "source": [
        "# Predictions"
      ]
    },
    {
      "cell_type": "code",
      "metadata": {
        "id": "0MS3QcomBeyb",
        "colab_type": "code",
        "colab": {}
      },
      "source": [
        "predictions = model.predict(mnist_test_img)"
      ],
      "execution_count": null,
      "outputs": []
    },
    {
      "cell_type": "code",
      "metadata": {
        "id": "KN-zEbA3Bes3",
        "colab_type": "code",
        "colab": {
          "base_uri": "https://localhost:8080/",
          "height": 34
        },
        "outputId": "5cf181fe-4bae-41ad-e4c0-89d28f3781b9"
      },
      "source": [
        "np.argmax(predictions[0])"
      ],
      "execution_count": null,
      "outputs": [
        {
          "output_type": "execute_result",
          "data": {
            "text/plain": [
              "7"
            ]
          },
          "metadata": {
            "tags": []
          },
          "execution_count": 29
        }
      ]
    },
    {
      "cell_type": "code",
      "metadata": {
        "id": "RhrDbOMeBelT",
        "colab_type": "code",
        "colab": {}
      },
      "source": [
        "def plot_image(i, predictions_array, true_label, img):\n",
        "  predictions_array, true_label, img = predictions_array[i], true_label[i], img[i]\n",
        "  plt.grid(False)\n",
        "  plt.xticks([])\n",
        "  plt.yticks([])\n",
        "  \n",
        "  plt.imshow(img, cmap=plt.cm.binary)\n",
        "  \n",
        "  predicted_label = np.argmax(predictions_array)\n",
        "  if predicted_label == true_label:\n",
        "    color = 'blue'\n",
        "  else:\n",
        "    color = 'red'\n",
        "  \n",
        "  plt.xlabel(\"{} {:2.0f}% ({})\".format(class_names[predicted_label],\n",
        "                                100*np.max(predictions_array),\n",
        "                                class_names[true_label]),\n",
        "                                color=color)"
      ],
      "execution_count": null,
      "outputs": []
    },
    {
      "cell_type": "code",
      "metadata": {
        "id": "UbA_EUfRBeTb",
        "colab_type": "code",
        "colab": {
          "base_uri": "https://localhost:8080/",
          "height": 201
        },
        "outputId": "def72232-e925-4a7f-b23f-2dbc692bbe2a"
      },
      "source": [
        "i=0\n",
        "plt.figure(figsize=(6,3))\n",
        "plt.subplot(1,2,1)\n",
        "plot_image(0,predictions,mnist_test_labels,mnist_test_img)"
      ],
      "execution_count": null,
      "outputs": [
        {
          "output_type": "display_data",
          "data": {
            "image/png": "[encoded data removed]",
            "text/plain": [
              "<Figure size 432x216 with 1 Axes>"
            ]
          },
          "metadata": {
            "tags": []
          }
        }
      ]
    },
    {
      "cell_type": "markdown",
      "metadata": {
        "id": "vXNmfJKRFGR6",
        "colab_type": "text"
      },
      "source": [
        "# Generating Adversarial Images  Using FGSM"
      ]
    },
    {
      "cell_type": "code",
      "metadata": {
        "id": "JSV3G0orCtwv",
        "colab_type": "code",
        "colab": {}
      },
      "source": [
        "loss_object = tf.keras.losses.CategoricalCrossentropy()\n",
        "\n",
        "def generate_adversary(input_image,input_label):\n",
        "  input_image = tf.cast(input_image,tf.float32)\n",
        "  with tf.GradientTape() as tape:\n",
        "    tape.watch(input_image)\n",
        "    prediction = model(input_image)\n",
        "    loss = loss_object(input_label,prediction)\n",
        "    \n",
        "  gradient = tape.gradient(loss, input_image)\n",
        "  signed_grad = tf.sign(gradient)\n",
        "  return signed_grad"
      ],
      "execution_count": null,
      "outputs": []
    },
    {
      "cell_type": "code",
      "metadata": {
        "id": "ZKKbWqdvCtor",
        "colab_type": "code",
        "colab": {
          "base_uri": "https://localhost:8080/",
          "height": 286
        },
        "outputId": "41b6cbf6-ebd8-4636-938d-ad5342ad723d"
      },
      "source": [
        "\n",
        "img = mnist_test_img[0]\n",
        "img = (np.expand_dims(img,0))\n",
        "image = img\n",
        "#print(img.shape)\n",
        "#plt.imshow(img[0])\n",
        "perturbations = generate_adversary(img,model.predict(img))\n",
        "plt.imshow(perturbations[0])"
      ],
      "execution_count": null,
      "outputs": [
        {
          "output_type": "execute_result",
          "data": {
            "text/plain": [
              "<matplotlib.image.AxesImage at 0x7f410173b588>"
            ]
          },
          "metadata": {
            "tags": []
          },
          "execution_count": 34
        },
        {
          "output_type": "display_data",
          "data": {
            "image/png": "[encoded data removed]",
            "text/plain": [
              "<Figure size 432x288 with 1 Axes>"
            ]
          },
          "metadata": {
            "tags": []
          }
        }
      ]
    },
    {
      "cell_type": "code",
      "metadata": {
        "id": "Rl9bWmLXCtVH",
        "colab_type": "code",
        "colab": {}
      },
      "source": [
        "def display_images(img,image,description):\n",
        "  predictions_array = model.predict(img)\n",
        "  actual_array = model.predict(image)\n",
        "  plt.grid(False)\n",
        "  plt.xticks([])\n",
        "  plt.yticks([])\n",
        "  plt.imshow(img[0])\n",
        "  actual_label = np.argmax(actual_array)\n",
        "  predicted_label = np.argmax(predictions_array)\n",
        "  if predicted_label == actual_label:\n",
        "    color = 'blue'\n",
        "  else:\n",
        "    color = 'red'\n",
        "  \n",
        "  plt.xlabel(\"{} \\n {} {:2.0f}% ({})\".format(description,class_names[predicted_label],\n",
        "                                100*np.max(predictions_array),\n",
        "                                class_names[actual_label]),\n",
        "                                color=color)\n",
        "  plt.show()"
      ],
      "execution_count": null,
      "outputs": []
    },
    {
      "cell_type": "code",
      "metadata": {
        "id": "kg37D9gkC9fl",
        "colab_type": "code",
        "colab": {
          "base_uri": "https://localhost:8080/",
          "height": 1000
        },
        "outputId": "afab907a-a5ee-405e-fc9c-0f74a0597a00"
      },
      "source": [
        "\n",
        "epsilons = [0, 0.01,0.1,0.15]\n",
        "descriptions = [('Epsilon = {:0.3f}'.format(eps) if eps else 'Input')\n",
        "                for eps in epsilons]\n",
        "\n",
        "for i, eps in enumerate(epsilons):\n",
        "  adv_x = img + eps*perturbations \n",
        "  adv_x = np.clip(adv_x, 0, 1)\n",
        "  display_images(adv_x,image, descriptions[i])\n"
      ],
      "execution_count": null,
      "outputs": [
        {
          "output_type": "display_data",
          "data": {
            "image/png": "[encoded data removed]",
            "text/plain": [
              "<Figure size 432x288 with 1 Axes>"
            ]
          },
          "metadata": {
            "tags": []
          }
        },
        {
          "output_type": "display_data",
          "data": {
            "image/png": "[encoded data removed]",
            "text/plain": [
              "<Figure size 432x288 with 1 Axes>"
            ]
          },
          "metadata": {
            "tags": []
          }
        },
        {
          "output_type": "display_data",
          "data": {
            "image/png": "[encoded data removed]",
            "text/plain": [
              "<Figure size 432x288 with 1 Axes>"
            ]
          },
          "metadata": {
            "tags": []
          }
        },
        {
          "output_type": "display_data",
          "data": {
            "image/png": "[encoded data removed]",
            "text/plain": [
              "<Figure size 432x288 with 1 Axes>"
            ]
          },
          "metadata": {
            "tags": []
          }
        }
      ]
    }
  ]
}